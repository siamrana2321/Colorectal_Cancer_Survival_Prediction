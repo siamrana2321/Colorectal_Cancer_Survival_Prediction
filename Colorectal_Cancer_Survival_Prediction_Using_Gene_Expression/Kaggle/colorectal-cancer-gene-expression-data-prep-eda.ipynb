{
 "cells": [
  {
   "cell_type": "markdown",
   "metadata": {},
   "source": [
    "# Table of Contents\n",
    "* [Patient Data - Import and Preparation](#1)\n",
    "* [Patient Data - Numerical Variables](#2)\n",
    "* [Patient Data - Categorical Variables](#3)\n",
    "* [Gene Expression Data - Import and Preparation](#4)\n",
    "* [Gene Expression Data - EDA](#5)\n",
    "* [Combine two files](#6)"
   ]
  },
  {
   "cell_type": "code",
   "execution_count": 2,
   "metadata": {
    "_cell_guid": "b1076dfc-b9ad-4769-8c92-a6c4dae69d19",
    "_uuid": "8f2839f25d086af736a60e9eeb907d3b93b6e0e5",
    "execution": {
     "iopub.execute_input": "2021-08-17T14:26:18.334188Z",
     "iopub.status.busy": "2021-08-17T14:26:18.333774Z",
     "iopub.status.idle": "2021-08-17T14:26:19.328822Z",
     "shell.execute_reply": "2021-08-17T14:26:19.327894Z",
     "shell.execute_reply.started": "2021-08-17T14:26:18.334153Z"
    },
    "trusted": true
   },
   "outputs": [],
   "source": [
    "# packages\n",
    "\n",
    "# standard\n",
    "import numpy as np\n",
    "import pandas as pd\n",
    "\n",
    "# plot\n",
    "import matplotlib.pyplot as plt\n",
    "import seaborn as sns"
   ]
  },
  {
   "cell_type": "markdown",
   "metadata": {},
   "source": [
    "<a id='1'></a>\n",
    "# Patient Data - Import and Preparation"
   ]
  },
  {
   "cell_type": "code",
   "execution_count": 6,
   "metadata": {
    "execution": {
     "iopub.execute_input": "2021-08-17T14:26:19.475794Z",
     "iopub.status.busy": "2021-08-17T14:26:19.475447Z",
     "iopub.status.idle": "2021-08-17T14:26:19.532748Z",
     "shell.execute_reply": "2021-08-17T14:26:19.531676Z",
     "shell.execute_reply.started": "2021-08-17T14:26:19.475762Z"
    },
    "trusted": true
   },
   "outputs": [
    {
     "data": {
      "text/html": [
       "<div>\n",
       "<style scoped>\n",
       "    .dataframe tbody tr th:only-of-type {\n",
       "        vertical-align: middle;\n",
       "    }\n",
       "\n",
       "    .dataframe tbody tr th {\n",
       "        vertical-align: top;\n",
       "    }\n",
       "\n",
       "    .dataframe thead th {\n",
       "        text-align: right;\n",
       "    }\n",
       "</style>\n",
       "<table border=\"1\" class=\"dataframe\">\n",
       "  <thead>\n",
       "    <tr style=\"text-align: right;\">\n",
       "      <th></th>\n",
       "      <th>Unnamed: 0</th>\n",
       "      <th>ID_REF</th>\n",
       "      <th>Age (in years)</th>\n",
       "      <th>Dukes Stage</th>\n",
       "      <th>Gender</th>\n",
       "      <th>Location</th>\n",
       "      <th>DFS (in months)</th>\n",
       "      <th>DFS event</th>\n",
       "      <th>Adj_Radio</th>\n",
       "      <th>Adj_Chem</th>\n",
       "    </tr>\n",
       "  </thead>\n",
       "  <tbody>\n",
       "    <tr>\n",
       "      <th>0</th>\n",
       "      <td>0</td>\n",
       "      <td>GSM877126</td>\n",
       "      <td>62.0</td>\n",
       "      <td>A</td>\n",
       "      <td>Male</td>\n",
       "      <td>Left</td>\n",
       "      <td>108.0</td>\n",
       "      <td>0.0</td>\n",
       "      <td>1.0</td>\n",
       "      <td>0.0</td>\n",
       "    </tr>\n",
       "    <tr>\n",
       "      <th>1</th>\n",
       "      <td>1</td>\n",
       "      <td>GSM877127</td>\n",
       "      <td>77.0</td>\n",
       "      <td>B</td>\n",
       "      <td>Male</td>\n",
       "      <td>Left</td>\n",
       "      <td>40.0</td>\n",
       "      <td>1.0</td>\n",
       "      <td>1.0</td>\n",
       "      <td>0.0</td>\n",
       "    </tr>\n",
       "    <tr>\n",
       "      <th>2</th>\n",
       "      <td>2</td>\n",
       "      <td>GSM877128</td>\n",
       "      <td>66.0</td>\n",
       "      <td>C</td>\n",
       "      <td>Female</td>\n",
       "      <td>Left</td>\n",
       "      <td>49.0</td>\n",
       "      <td>0.0</td>\n",
       "      <td>1.0</td>\n",
       "      <td>0.0</td>\n",
       "    </tr>\n",
       "    <tr>\n",
       "      <th>3</th>\n",
       "      <td>3</td>\n",
       "      <td>GSM877129</td>\n",
       "      <td>72.0</td>\n",
       "      <td>D</td>\n",
       "      <td>Female</td>\n",
       "      <td>Left</td>\n",
       "      <td>45.0</td>\n",
       "      <td>0.0</td>\n",
       "      <td>1.0</td>\n",
       "      <td>1.0</td>\n",
       "    </tr>\n",
       "    <tr>\n",
       "      <th>4</th>\n",
       "      <td>4</td>\n",
       "      <td>GSM877130</td>\n",
       "      <td>75.0</td>\n",
       "      <td>C</td>\n",
       "      <td>Male</td>\n",
       "      <td>Left</td>\n",
       "      <td>40.0</td>\n",
       "      <td>0.0</td>\n",
       "      <td>0.0</td>\n",
       "      <td>1.0</td>\n",
       "    </tr>\n",
       "    <tr>\n",
       "      <th>...</th>\n",
       "      <td>...</td>\n",
       "      <td>...</td>\n",
       "      <td>...</td>\n",
       "      <td>...</td>\n",
       "      <td>...</td>\n",
       "      <td>...</td>\n",
       "      <td>...</td>\n",
       "      <td>...</td>\n",
       "      <td>...</td>\n",
       "      <td>...</td>\n",
       "    </tr>\n",
       "    <tr>\n",
       "      <th>58</th>\n",
       "      <td>58</td>\n",
       "      <td>GSM877185</td>\n",
       "      <td>48.0</td>\n",
       "      <td>D</td>\n",
       "      <td>Male</td>\n",
       "      <td>Right</td>\n",
       "      <td>64.0</td>\n",
       "      <td>0.0</td>\n",
       "      <td>1.0</td>\n",
       "      <td>0.0</td>\n",
       "    </tr>\n",
       "    <tr>\n",
       "      <th>59</th>\n",
       "      <td>59</td>\n",
       "      <td>GSM877186</td>\n",
       "      <td>65.0</td>\n",
       "      <td>C</td>\n",
       "      <td>Male</td>\n",
       "      <td>Left</td>\n",
       "      <td>25.0</td>\n",
       "      <td>1.0</td>\n",
       "      <td>1.0</td>\n",
       "      <td>0.0</td>\n",
       "    </tr>\n",
       "    <tr>\n",
       "      <th>60</th>\n",
       "      <td>60</td>\n",
       "      <td>GSM877187</td>\n",
       "      <td>71.0</td>\n",
       "      <td>A</td>\n",
       "      <td>Male</td>\n",
       "      <td>Rectum</td>\n",
       "      <td>58.0</td>\n",
       "      <td>1.0</td>\n",
       "      <td>1.0</td>\n",
       "      <td>0.0</td>\n",
       "    </tr>\n",
       "    <tr>\n",
       "      <th>61</th>\n",
       "      <td>61</td>\n",
       "      <td>GSM877188</td>\n",
       "      <td>57.0</td>\n",
       "      <td>A</td>\n",
       "      <td>Male</td>\n",
       "      <td>Rectum</td>\n",
       "      <td>68.0</td>\n",
       "      <td>1.0</td>\n",
       "      <td>0.0</td>\n",
       "      <td>0.0</td>\n",
       "    </tr>\n",
       "    <tr>\n",
       "      <th>62</th>\n",
       "      <td>62</td>\n",
       "      <td>NaN</td>\n",
       "      <td>NaN</td>\n",
       "      <td>NaN</td>\n",
       "      <td>NaN</td>\n",
       "      <td>NaN</td>\n",
       "      <td>NaN</td>\n",
       "      <td>NaN</td>\n",
       "      <td>NaN</td>\n",
       "      <td>NaN</td>\n",
       "    </tr>\n",
       "  </tbody>\n",
       "</table>\n",
       "<p>63 rows × 10 columns</p>\n",
       "</div>"
      ],
      "text/plain": [
       "    Unnamed: 0     ID_REF  Age (in years) Dukes Stage  Gender Location  \\\n",
       "0            0  GSM877126            62.0           A    Male     Left   \n",
       "1            1  GSM877127            77.0           B    Male     Left   \n",
       "2            2  GSM877128            66.0           C  Female     Left   \n",
       "3            3  GSM877129            72.0           D  Female     Left   \n",
       "4            4  GSM877130            75.0           C    Male     Left   \n",
       "..         ...        ...             ...         ...     ...      ...   \n",
       "58          58  GSM877185            48.0           D    Male    Right   \n",
       "59          59  GSM877186            65.0           C    Male     Left   \n",
       "60          60  GSM877187            71.0           A    Male   Rectum   \n",
       "61          61  GSM877188            57.0           A    Male   Rectum   \n",
       "62          62        NaN             NaN         NaN     NaN      NaN   \n",
       "\n",
       "    DFS (in months)  DFS event  Adj_Radio  Adj_Chem  \n",
       "0             108.0        0.0        1.0       0.0  \n",
       "1              40.0        1.0        1.0       0.0  \n",
       "2              49.0        0.0        1.0       0.0  \n",
       "3              45.0        0.0        1.0       1.0  \n",
       "4              40.0        0.0        0.0       1.0  \n",
       "..              ...        ...        ...       ...  \n",
       "58             64.0        0.0        1.0       0.0  \n",
       "59             25.0        1.0        1.0       0.0  \n",
       "60             58.0        1.0        1.0       0.0  \n",
       "61             68.0        1.0        0.0       0.0  \n",
       "62              NaN        NaN        NaN       NaN  \n",
       "\n",
       "[63 rows x 10 columns]"
      ]
     },
     "execution_count": 6,
     "metadata": {},
     "output_type": "execute_result"
    }
   ],
   "source": [
    "# load data\n",
    "df = pd.read_csv('./dataset/Colorectal Cancer Patient Data.csv')\n",
    "df"
   ]
  },
  {
   "cell_type": "code",
   "execution_count": 8,
   "metadata": {
    "execution": {
     "iopub.execute_input": "2021-08-17T14:26:20.242564Z",
     "iopub.status.busy": "2021-08-17T14:26:20.242177Z",
     "iopub.status.idle": "2021-08-17T14:26:20.281101Z",
     "shell.execute_reply": "2021-08-17T14:26:20.279964Z",
     "shell.execute_reply.started": "2021-08-17T14:26:20.242524Z"
    },
    "trusted": true
   },
   "outputs": [
    {
     "data": {
      "text/html": [
       "<div>\n",
       "<style scoped>\n",
       "    .dataframe tbody tr th:only-of-type {\n",
       "        vertical-align: middle;\n",
       "    }\n",
       "\n",
       "    .dataframe tbody tr th {\n",
       "        vertical-align: top;\n",
       "    }\n",
       "\n",
       "    .dataframe thead th {\n",
       "        text-align: right;\n",
       "    }\n",
       "</style>\n",
       "<table border=\"1\" class=\"dataframe\">\n",
       "  <thead>\n",
       "    <tr style=\"text-align: right;\">\n",
       "      <th></th>\n",
       "      <th>ID_REF</th>\n",
       "      <th>Age (in years)</th>\n",
       "      <th>Dukes Stage</th>\n",
       "      <th>Gender</th>\n",
       "      <th>Location</th>\n",
       "      <th>DFS (in months)</th>\n",
       "      <th>DFS event</th>\n",
       "      <th>Adj_Radio</th>\n",
       "      <th>Adj_Chem</th>\n",
       "    </tr>\n",
       "  </thead>\n",
       "  <tbody>\n",
       "    <tr>\n",
       "      <th>0</th>\n",
       "      <td>GSM877126</td>\n",
       "      <td>62.0</td>\n",
       "      <td>A</td>\n",
       "      <td>Male</td>\n",
       "      <td>Left</td>\n",
       "      <td>108.0</td>\n",
       "      <td>0.0</td>\n",
       "      <td>1.0</td>\n",
       "      <td>0.0</td>\n",
       "    </tr>\n",
       "    <tr>\n",
       "      <th>1</th>\n",
       "      <td>GSM877127</td>\n",
       "      <td>77.0</td>\n",
       "      <td>B</td>\n",
       "      <td>Male</td>\n",
       "      <td>Left</td>\n",
       "      <td>40.0</td>\n",
       "      <td>1.0</td>\n",
       "      <td>1.0</td>\n",
       "      <td>0.0</td>\n",
       "    </tr>\n",
       "    <tr>\n",
       "      <th>2</th>\n",
       "      <td>GSM877128</td>\n",
       "      <td>66.0</td>\n",
       "      <td>C</td>\n",
       "      <td>Female</td>\n",
       "      <td>Left</td>\n",
       "      <td>49.0</td>\n",
       "      <td>0.0</td>\n",
       "      <td>1.0</td>\n",
       "      <td>0.0</td>\n",
       "    </tr>\n",
       "    <tr>\n",
       "      <th>3</th>\n",
       "      <td>GSM877129</td>\n",
       "      <td>72.0</td>\n",
       "      <td>D</td>\n",
       "      <td>Female</td>\n",
       "      <td>Left</td>\n",
       "      <td>45.0</td>\n",
       "      <td>0.0</td>\n",
       "      <td>1.0</td>\n",
       "      <td>1.0</td>\n",
       "    </tr>\n",
       "    <tr>\n",
       "      <th>4</th>\n",
       "      <td>GSM877130</td>\n",
       "      <td>75.0</td>\n",
       "      <td>C</td>\n",
       "      <td>Male</td>\n",
       "      <td>Left</td>\n",
       "      <td>40.0</td>\n",
       "      <td>0.0</td>\n",
       "      <td>0.0</td>\n",
       "      <td>1.0</td>\n",
       "    </tr>\n",
       "    <tr>\n",
       "      <th>...</th>\n",
       "      <td>...</td>\n",
       "      <td>...</td>\n",
       "      <td>...</td>\n",
       "      <td>...</td>\n",
       "      <td>...</td>\n",
       "      <td>...</td>\n",
       "      <td>...</td>\n",
       "      <td>...</td>\n",
       "      <td>...</td>\n",
       "    </tr>\n",
       "    <tr>\n",
       "      <th>57</th>\n",
       "      <td>GSM877184</td>\n",
       "      <td>54.0</td>\n",
       "      <td>C</td>\n",
       "      <td>Male</td>\n",
       "      <td>Left</td>\n",
       "      <td>22.0</td>\n",
       "      <td>1.0</td>\n",
       "      <td>0.0</td>\n",
       "      <td>0.0</td>\n",
       "    </tr>\n",
       "    <tr>\n",
       "      <th>58</th>\n",
       "      <td>GSM877185</td>\n",
       "      <td>48.0</td>\n",
       "      <td>D</td>\n",
       "      <td>Male</td>\n",
       "      <td>Right</td>\n",
       "      <td>64.0</td>\n",
       "      <td>0.0</td>\n",
       "      <td>1.0</td>\n",
       "      <td>0.0</td>\n",
       "    </tr>\n",
       "    <tr>\n",
       "      <th>59</th>\n",
       "      <td>GSM877186</td>\n",
       "      <td>65.0</td>\n",
       "      <td>C</td>\n",
       "      <td>Male</td>\n",
       "      <td>Left</td>\n",
       "      <td>25.0</td>\n",
       "      <td>1.0</td>\n",
       "      <td>1.0</td>\n",
       "      <td>0.0</td>\n",
       "    </tr>\n",
       "    <tr>\n",
       "      <th>60</th>\n",
       "      <td>GSM877187</td>\n",
       "      <td>71.0</td>\n",
       "      <td>A</td>\n",
       "      <td>Male</td>\n",
       "      <td>Rectum</td>\n",
       "      <td>58.0</td>\n",
       "      <td>1.0</td>\n",
       "      <td>1.0</td>\n",
       "      <td>0.0</td>\n",
       "    </tr>\n",
       "    <tr>\n",
       "      <th>61</th>\n",
       "      <td>GSM877188</td>\n",
       "      <td>57.0</td>\n",
       "      <td>A</td>\n",
       "      <td>Male</td>\n",
       "      <td>Rectum</td>\n",
       "      <td>68.0</td>\n",
       "      <td>1.0</td>\n",
       "      <td>0.0</td>\n",
       "      <td>0.0</td>\n",
       "    </tr>\n",
       "  </tbody>\n",
       "</table>\n",
       "<p>62 rows × 9 columns</p>\n",
       "</div>"
      ],
      "text/plain": [
       "       ID_REF  Age (in years) Dukes Stage  Gender Location  DFS (in months)  \\\n",
       "0   GSM877126            62.0           A    Male     Left            108.0   \n",
       "1   GSM877127            77.0           B    Male     Left             40.0   \n",
       "2   GSM877128            66.0           C  Female     Left             49.0   \n",
       "3   GSM877129            72.0           D  Female     Left             45.0   \n",
       "4   GSM877130            75.0           C    Male     Left             40.0   \n",
       "..        ...             ...         ...     ...      ...              ...   \n",
       "57  GSM877184            54.0           C    Male     Left             22.0   \n",
       "58  GSM877185            48.0           D    Male    Right             64.0   \n",
       "59  GSM877186            65.0           C    Male     Left             25.0   \n",
       "60  GSM877187            71.0           A    Male   Rectum             58.0   \n",
       "61  GSM877188            57.0           A    Male   Rectum             68.0   \n",
       "\n",
       "    DFS event  Adj_Radio  Adj_Chem  \n",
       "0         0.0        1.0       0.0  \n",
       "1         1.0        1.0       0.0  \n",
       "2         0.0        1.0       0.0  \n",
       "3         0.0        1.0       1.0  \n",
       "4         0.0        0.0       1.0  \n",
       "..        ...        ...       ...  \n",
       "57        1.0        0.0       0.0  \n",
       "58        0.0        1.0       0.0  \n",
       "59        1.0        1.0       0.0  \n",
       "60        1.0        1.0       0.0  \n",
       "61        1.0        0.0       0.0  \n",
       "\n",
       "[62 rows x 9 columns]"
      ]
     },
     "execution_count": 8,
     "metadata": {},
     "output_type": "execute_result"
    }
   ],
   "source": [
    "# remove empty rows/columns\n",
    "df = df.drop('Unnamed: 0', axis=1)\n",
    "df = df.drop(index=62, axis=0)\n",
    "df"
   ]
  },
  {
   "cell_type": "code",
   "execution_count": 9,
   "metadata": {
    "execution": {
     "iopub.execute_input": "2021-08-17T14:26:22.21148Z",
     "iopub.status.busy": "2021-08-17T14:26:22.211129Z",
     "iopub.status.idle": "2021-08-17T14:26:22.234509Z",
     "shell.execute_reply": "2021-08-17T14:26:22.233539Z",
     "shell.execute_reply.started": "2021-08-17T14:26:22.211449Z"
    },
    "trusted": true
   },
   "outputs": [
    {
     "name": "stdout",
     "output_type": "stream",
     "text": [
      "<class 'pandas.core.frame.DataFrame'>\n",
      "RangeIndex: 62 entries, 0 to 61\n",
      "Data columns (total 9 columns):\n",
      " #   Column           Non-Null Count  Dtype  \n",
      "---  ------           --------------  -----  \n",
      " 0   ID_REF           62 non-null     object \n",
      " 1   Age (in years)   62 non-null     float64\n",
      " 2   Dukes Stage      62 non-null     object \n",
      " 3   Gender           62 non-null     object \n",
      " 4   Location         62 non-null     object \n",
      " 5   DFS (in months)  62 non-null     float64\n",
      " 6   DFS event        62 non-null     float64\n",
      " 7   Adj_Radio        62 non-null     float64\n",
      " 8   Adj_Chem         62 non-null     float64\n",
      "dtypes: float64(5), object(4)\n",
      "memory usage: 4.5+ KB\n"
     ]
    }
   ],
   "source": [
    "# structure of data frame\n",
    "df.info()"
   ]
  },
  {
   "cell_type": "markdown",
   "metadata": {},
   "source": [
    "<a id='2'></a>\n",
    "# Patient Data - Numerical Variables"
   ]
  },
  {
   "cell_type": "code",
   "execution_count": null,
   "metadata": {
    "execution": {
     "iopub.execute_input": "2021-08-17T14:26:39.800435Z",
     "iopub.status.busy": "2021-08-17T14:26:39.79982Z",
     "iopub.status.idle": "2021-08-17T14:26:39.803602Z",
     "shell.execute_reply": "2021-08-17T14:26:39.802955Z",
     "shell.execute_reply.started": "2021-08-17T14:26:39.800397Z"
    },
    "trusted": true
   },
   "outputs": [],
   "source": [
    "features_num = ['Age (in years)', 'DFS (in months)']"
   ]
  },
  {
   "cell_type": "code",
   "execution_count": null,
   "metadata": {
    "execution": {
     "iopub.execute_input": "2021-08-17T14:26:41.703024Z",
     "iopub.status.busy": "2021-08-17T14:26:41.702522Z",
     "iopub.status.idle": "2021-08-17T14:26:41.724615Z",
     "shell.execute_reply": "2021-08-17T14:26:41.723654Z",
     "shell.execute_reply.started": "2021-08-17T14:26:41.702993Z"
    },
    "trusted": true
   },
   "outputs": [],
   "source": [
    "# basic stats\n",
    "df[features_num].describe(percentiles=[0.1,0.25,0.5,0.75,0.9])"
   ]
  },
  {
   "cell_type": "code",
   "execution_count": null,
   "metadata": {
    "execution": {
     "iopub.execute_input": "2021-08-17T14:26:43.843027Z",
     "iopub.status.busy": "2021-08-17T14:26:43.842653Z",
     "iopub.status.idle": "2021-08-17T14:26:44.414704Z",
     "shell.execute_reply": "2021-08-17T14:26:44.413835Z",
     "shell.execute_reply.started": "2021-08-17T14:26:43.842995Z"
    },
    "trusted": true
   },
   "outputs": [],
   "source": [
    "# plot distributions\n",
    "for f in features_num:\n",
    "    fig, (ax1, ax2) = plt.subplots(2, 1, figsize=(10,7))\n",
    "    \n",
    "    ax1.hist(df[f])\n",
    "    ax1.grid()\n",
    "    ax1.set_title('Histogram of ' + f)\n",
    "    \n",
    "    ax2.boxplot(df[f], vert=False)\n",
    "    ax2.grid()   \n",
    "    ax2.set_title('Boxplot of ' + f)\n",
    "    \n",
    "    plt.show()"
   ]
  },
  {
   "cell_type": "code",
   "execution_count": null,
   "metadata": {
    "execution": {
     "iopub.execute_input": "2021-08-17T14:26:47.199809Z",
     "iopub.status.busy": "2021-08-17T14:26:47.199455Z",
     "iopub.status.idle": "2021-08-17T14:26:47.720469Z",
     "shell.execute_reply": "2021-08-17T14:26:47.719794Z",
     "shell.execute_reply.started": "2021-08-17T14:26:47.199775Z"
    },
    "trusted": true
   },
   "outputs": [],
   "source": [
    "# correlations\n",
    "corr_pearson = df[features_num].corr(method='pearson')\n",
    "corr_spearman = df[features_num].corr(method='spearman')\n",
    "\n",
    "fig = plt.figure(figsize = (8,6))\n",
    "sns.heatmap(corr_pearson, annot=True, cmap='RdYlGn', vmin=-1, vmax=+1)\n",
    "plt.title('Pearson Correlation')\n",
    "plt.show()\n",
    "\n",
    "fig = plt.figure(figsize = (8,6))\n",
    "sns.heatmap(corr_spearman, annot=True, cmap='RdYlGn', vmin=-1, vmax=+1)\n",
    "plt.title('Spearman Correlation')\n",
    "plt.show()"
   ]
  },
  {
   "cell_type": "code",
   "execution_count": null,
   "metadata": {
    "execution": {
     "iopub.execute_input": "2021-08-17T14:26:50.354671Z",
     "iopub.status.busy": "2021-08-17T14:26:50.354114Z",
     "iopub.status.idle": "2021-08-17T14:26:50.683211Z",
     "shell.execute_reply": "2021-08-17T14:26:50.681983Z",
     "shell.execute_reply.started": "2021-08-17T14:26:50.354632Z"
    },
    "trusted": true
   },
   "outputs": [],
   "source": [
    "plt.scatter(df['Age (in years)'], df['DFS (in months)'])\n",
    "plt.title('DFS vs Age')\n",
    "plt.xlabel('Age')\n",
    "plt.ylabel('DFS (months)')\n",
    "plt.grid()\n",
    "plt.show()"
   ]
  },
  {
   "cell_type": "markdown",
   "metadata": {},
   "source": [
    "<a id='3'></a>\n",
    "# Patient Data - Categorical Variables"
   ]
  },
  {
   "cell_type": "code",
   "execution_count": null,
   "metadata": {
    "execution": {
     "iopub.execute_input": "2021-08-17T13:59:23.964226Z",
     "iopub.status.busy": "2021-08-17T13:59:23.963565Z",
     "iopub.status.idle": "2021-08-17T13:59:23.969241Z",
     "shell.execute_reply": "2021-08-17T13:59:23.968242Z",
     "shell.execute_reply.started": "2021-08-17T13:59:23.964183Z"
    },
    "trusted": true
   },
   "outputs": [],
   "source": [
    "features_cat = ['Dukes Stage', 'Gender', 'Location', \n",
    "                'DFS event', 'Adj_Radio', 'Adj_Chem']"
   ]
  },
  {
   "cell_type": "code",
   "execution_count": null,
   "metadata": {
    "execution": {
     "iopub.execute_input": "2021-08-17T13:59:23.97059Z",
     "iopub.status.busy": "2021-08-17T13:59:23.970332Z",
     "iopub.status.idle": "2021-08-17T13:59:24.753647Z",
     "shell.execute_reply": "2021-08-17T13:59:24.752624Z",
     "shell.execute_reply.started": "2021-08-17T13:59:23.970564Z"
    },
    "trusted": true
   },
   "outputs": [],
   "source": [
    "for f in features_cat:\n",
    "    df[f].value_counts().sort_index().plot(kind='bar')\n",
    "    plt.title(f)\n",
    "    plt.grid()\n",
    "    plt.show()"
   ]
  },
  {
   "cell_type": "markdown",
   "metadata": {},
   "source": [
    "<a id='4'></a>\n",
    "# Gene Expression Data - Import and Preparation"
   ]
  },
  {
   "cell_type": "code",
   "execution_count": null,
   "metadata": {
    "execution": {
     "iopub.execute_input": "2021-08-17T13:59:24.754967Z",
     "iopub.status.busy": "2021-08-17T13:59:24.754681Z",
     "iopub.status.idle": "2021-08-17T13:59:24.839797Z",
     "shell.execute_reply": "2021-08-17T13:59:24.838812Z",
     "shell.execute_reply.started": "2021-08-17T13:59:24.75494Z"
    },
    "trusted": true
   },
   "outputs": [],
   "source": [
    "# load data\n",
    "df_gene = pd.read_csv('../input/colorectal-cancer-patients/crc_ge.txt', \n",
    "                      sep='\\t')\n",
    "df_gene.head()"
   ]
  },
  {
   "cell_type": "markdown",
   "metadata": {},
   "source": [
    "### Ok, we need to transpose this to align with the patients' data"
   ]
  },
  {
   "cell_type": "code",
   "execution_count": null,
   "metadata": {
    "execution": {
     "iopub.execute_input": "2021-08-17T13:59:24.842824Z",
     "iopub.status.busy": "2021-08-17T13:59:24.842505Z",
     "iopub.status.idle": "2021-08-17T13:59:24.987071Z",
     "shell.execute_reply": "2021-08-17T13:59:24.985994Z",
     "shell.execute_reply.started": "2021-08-17T13:59:24.842793Z"
    },
    "trusted": true
   },
   "outputs": [],
   "source": [
    "df_gene = df_gene.transpose()\n",
    "# let's check the result:\n",
    "df_gene.head()"
   ]
  },
  {
   "cell_type": "code",
   "execution_count": null,
   "metadata": {
    "execution": {
     "iopub.execute_input": "2021-08-17T13:59:24.988787Z",
     "iopub.status.busy": "2021-08-17T13:59:24.988423Z",
     "iopub.status.idle": "2021-08-17T13:59:25.001163Z",
     "shell.execute_reply": "2021-08-17T13:59:24.999861Z",
     "shell.execute_reply.started": "2021-08-17T13:59:24.988717Z"
    },
    "trusted": true
   },
   "outputs": [],
   "source": [
    "# use first content row as column headers\n",
    "col_names = df_gene.iloc[0].tolist()\n",
    "df_gene.columns = col_names\n",
    "# now remove redundant first row\n",
    "df_gene = df_gene.drop(axis=0, index='ID_REF')"
   ]
  },
  {
   "cell_type": "code",
   "execution_count": null,
   "metadata": {
    "execution": {
     "iopub.execute_input": "2021-08-17T13:59:25.002868Z",
     "iopub.status.busy": "2021-08-17T13:59:25.002485Z",
     "iopub.status.idle": "2021-08-17T13:59:26.236581Z",
     "shell.execute_reply": "2021-08-17T13:59:26.235538Z",
     "shell.execute_reply.started": "2021-08-17T13:59:25.002814Z"
    },
    "trusted": true
   },
   "outputs": [],
   "source": [
    "# add ID_REF (as first column) by copying index\n",
    "df_gene.insert(loc=0, column='ID_REF', value=df_gene.index)\n",
    "\n",
    "# and reset index\n",
    "df_gene = df_gene.reset_index(drop=True)\n",
    "\n",
    "# convert to numerical\n",
    "features_gene_num = df_gene.columns.tolist()[1:]\n",
    "df_gene[features_gene_num] = df_gene[features_gene_num].astype(float)"
   ]
  },
  {
   "cell_type": "code",
   "execution_count": null,
   "metadata": {
    "execution": {
     "iopub.execute_input": "2021-08-17T13:59:26.238822Z",
     "iopub.status.busy": "2021-08-17T13:59:26.238488Z",
     "iopub.status.idle": "2021-08-17T13:59:26.283308Z",
     "shell.execute_reply": "2021-08-17T13:59:26.282598Z",
     "shell.execute_reply.started": "2021-08-17T13:59:26.23879Z"
    },
    "trusted": true
   },
   "outputs": [],
   "source": [
    "df_gene"
   ]
  },
  {
   "cell_type": "markdown",
   "metadata": {},
   "source": [
    "### Now this looks good!"
   ]
  },
  {
   "cell_type": "markdown",
   "metadata": {},
   "source": [
    "<a id='5'></a>\n",
    "# Gene Expression Data - EDA"
   ]
  },
  {
   "cell_type": "code",
   "execution_count": null,
   "metadata": {
    "execution": {
     "iopub.execute_input": "2021-08-17T13:59:26.284481Z",
     "iopub.status.busy": "2021-08-17T13:59:26.284238Z",
     "iopub.status.idle": "2021-08-17T13:59:29.891482Z",
     "shell.execute_reply": "2021-08-17T13:59:29.890553Z",
     "shell.execute_reply.started": "2021-08-17T13:59:26.284456Z"
    },
    "trusted": true
   },
   "outputs": [],
   "source": [
    "# basic stats\n",
    "df_gene[features_gene_num].describe()"
   ]
  },
  {
   "cell_type": "markdown",
   "metadata": {},
   "source": [
    "### Plot all variables"
   ]
  },
  {
   "cell_type": "code",
   "execution_count": null,
   "metadata": {
    "execution": {
     "iopub.execute_input": "2021-08-17T13:59:29.893013Z",
     "iopub.status.busy": "2021-08-17T13:59:29.892679Z",
     "iopub.status.idle": "2021-08-17T14:00:14.810957Z",
     "shell.execute_reply": "2021-08-17T14:00:14.809973Z",
     "shell.execute_reply.started": "2021-08-17T13:59:29.892983Z"
    },
    "trusted": true
   },
   "outputs": [],
   "source": [
    "# boxplot of all variables\n",
    "for i in range(38):\n",
    "    print('Columns', 50*i+1 , 'to', 50*i+50)\n",
    "    df_gene.iloc[:,50*i+1:50*i+50+1].plot(kind='box', figsize=(15,5))\n",
    "    plt.xticks(rotation=90)\n",
    "    plt.grid()\n",
    "    plt.show()\n",
    "    \n",
    "# separate plot for incomplete last block\n",
    "print('Columns', 1901 , 'to', 1935)\n",
    "df_gene.iloc[:,1901:1935+1].plot(kind='box', figsize=(15,5))\n",
    "plt.xticks(rotation=90)\n",
    "plt.grid()\n",
    "plt.show()"
   ]
  },
  {
   "cell_type": "markdown",
   "metadata": {},
   "source": [
    "### Correlation"
   ]
  },
  {
   "cell_type": "code",
   "execution_count": null,
   "metadata": {
    "execution": {
     "iopub.execute_input": "2021-08-17T14:00:14.812916Z",
     "iopub.status.busy": "2021-08-17T14:00:14.812482Z",
     "iopub.status.idle": "2021-08-17T14:00:15.53804Z",
     "shell.execute_reply": "2021-08-17T14:00:15.537049Z",
     "shell.execute_reply.started": "2021-08-17T14:00:14.812873Z"
    },
    "trusted": true
   },
   "outputs": [],
   "source": [
    "# calc correlation matrix\n",
    "corr_pearson = df_gene[features_gene_num].corr(method='pearson')\n",
    "# mask lower triangle to avoid redundant values later\n",
    "corr_pearson = corr_pearson.mask(np.tril(np.ones(corr_pearson.shape)).astype(np.bool))"
   ]
  },
  {
   "cell_type": "code",
   "execution_count": null,
   "metadata": {
    "execution": {
     "iopub.execute_input": "2021-08-17T14:00:15.539837Z",
     "iopub.status.busy": "2021-08-17T14:00:15.539417Z",
     "iopub.status.idle": "2021-08-17T14:00:16.138924Z",
     "shell.execute_reply": "2021-08-17T14:00:16.138089Z",
     "shell.execute_reply.started": "2021-08-17T14:00:15.539796Z"
    },
    "trusted": true
   },
   "outputs": [],
   "source": [
    "# convert matrix in data frame\n",
    "df_corr = pd.DataFrame(corr_pearson).melt(var_name='x2', \n",
    "                                          value_name='corr_p',\n",
    "                                          ignore_index=False)\n",
    "df_corr.insert(loc=0, column='x1', value=df_corr.index)\n",
    "\n",
    "# remove redundancies\n",
    "df_corr = df_corr[~df_corr.corr_p.isna()]\n",
    "\n",
    "# reset index\n",
    "df_corr = df_corr.reset_index(drop=True)"
   ]
  },
  {
   "cell_type": "code",
   "execution_count": null,
   "metadata": {
    "execution": {
     "iopub.execute_input": "2021-08-17T14:00:16.140691Z",
     "iopub.status.busy": "2021-08-17T14:00:16.140109Z",
     "iopub.status.idle": "2021-08-17T14:00:16.155107Z",
     "shell.execute_reply": "2021-08-17T14:00:16.154324Z",
     "shell.execute_reply.started": "2021-08-17T14:00:16.140647Z"
    },
    "trusted": true
   },
   "outputs": [],
   "source": [
    "# show result\n",
    "df_corr"
   ]
  },
  {
   "cell_type": "code",
   "execution_count": null,
   "metadata": {
    "execution": {
     "iopub.execute_input": "2021-08-17T14:00:16.156963Z",
     "iopub.status.busy": "2021-08-17T14:00:16.156336Z",
     "iopub.status.idle": "2021-08-17T14:00:16.784489Z",
     "shell.execute_reply": "2021-08-17T14:00:16.78367Z",
     "shell.execute_reply.started": "2021-08-17T14:00:16.15692Z"
    },
    "trusted": true
   },
   "outputs": [],
   "source": [
    "# distribution of correlations\n",
    "df_corr.corr_p.plot(kind='hist', bins=100)\n",
    "plt.title('Distribution of Correlations')\n",
    "plt.grid()\n",
    "plt.show()"
   ]
  },
  {
   "cell_type": "code",
   "execution_count": null,
   "metadata": {
    "execution": {
     "iopub.execute_input": "2021-08-17T14:00:16.788421Z",
     "iopub.status.busy": "2021-08-17T14:00:16.788004Z",
     "iopub.status.idle": "2021-08-17T14:00:16.882059Z",
     "shell.execute_reply": "2021-08-17T14:00:16.881404Z",
     "shell.execute_reply.started": "2021-08-17T14:00:16.788389Z"
    },
    "trusted": true
   },
   "outputs": [],
   "source": [
    "# top 10 positive correlations\n",
    "df_corr.nlargest(10, columns='corr_p')"
   ]
  },
  {
   "cell_type": "code",
   "execution_count": null,
   "metadata": {
    "execution": {
     "iopub.execute_input": "2021-08-17T14:03:21.733299Z",
     "iopub.status.busy": "2021-08-17T14:03:21.732958Z",
     "iopub.status.idle": "2021-08-17T14:03:21.900891Z",
     "shell.execute_reply": "2021-08-17T14:03:21.899861Z",
     "shell.execute_reply.started": "2021-08-17T14:03:21.733269Z"
    },
    "trusted": true
   },
   "outputs": [],
   "source": [
    "# show example plot\n",
    "v1 = '1553185_at'\n",
    "v2 = '1553186_x_at'\n",
    "plt.scatter(df_gene[v1],df_gene[v2],alpha=.5)\n",
    "plt.title(v2+' vs '+v1)\n",
    "plt.grid()\n",
    "plt.show()"
   ]
  },
  {
   "cell_type": "code",
   "execution_count": null,
   "metadata": {
    "execution": {
     "iopub.execute_input": "2021-08-17T14:00:16.883507Z",
     "iopub.status.busy": "2021-08-17T14:00:16.883115Z",
     "iopub.status.idle": "2021-08-17T14:00:16.953696Z",
     "shell.execute_reply": "2021-08-17T14:00:16.953029Z",
     "shell.execute_reply.started": "2021-08-17T14:00:16.883477Z"
    },
    "trusted": true
   },
   "outputs": [],
   "source": [
    "# top 10 negative correlations\n",
    "df_corr.nsmallest(10, columns='corr_p')"
   ]
  },
  {
   "cell_type": "code",
   "execution_count": null,
   "metadata": {
    "execution": {
     "iopub.execute_input": "2021-08-17T14:03:27.932028Z",
     "iopub.status.busy": "2021-08-17T14:03:27.931666Z",
     "iopub.status.idle": "2021-08-17T14:03:28.085967Z",
     "shell.execute_reply": "2021-08-17T14:03:28.084851Z",
     "shell.execute_reply.started": "2021-08-17T14:03:27.931997Z"
    },
    "trusted": true
   },
   "outputs": [],
   "source": [
    "# show example plot\n",
    "v1 = '1552386_at'\n",
    "v2 = '1553105_s_at'\n",
    "plt.scatter(df_gene[v1],df_gene[v2],alpha=.5)\n",
    "plt.title(v2+' vs '+v1)\n",
    "plt.grid()\n",
    "plt.show()"
   ]
  },
  {
   "cell_type": "markdown",
   "metadata": {},
   "source": [
    "<a id='6'></a>\n",
    "# Combine two files"
   ]
  },
  {
   "cell_type": "code",
   "execution_count": null,
   "metadata": {
    "execution": {
     "iopub.execute_input": "2021-08-17T14:00:16.955186Z",
     "iopub.status.busy": "2021-08-17T14:00:16.954772Z",
     "iopub.status.idle": "2021-08-17T14:00:16.964585Z",
     "shell.execute_reply": "2021-08-17T14:00:16.963927Z",
     "shell.execute_reply.started": "2021-08-17T14:00:16.955142Z"
    },
    "trusted": true
   },
   "outputs": [],
   "source": [
    "# left join\n",
    "df_combined = df.join(other=df_gene.set_index('ID_REF'), on='ID_REF', how='left')"
   ]
  },
  {
   "cell_type": "code",
   "execution_count": null,
   "metadata": {
    "execution": {
     "iopub.execute_input": "2021-08-17T14:00:16.966217Z",
     "iopub.status.busy": "2021-08-17T14:00:16.965802Z",
     "iopub.status.idle": "2021-08-17T14:00:17.015378Z",
     "shell.execute_reply": "2021-08-17T14:00:17.01474Z",
     "shell.execute_reply.started": "2021-08-17T14:00:16.96618Z"
    },
    "trusted": true
   },
   "outputs": [],
   "source": [
    "df_combined"
   ]
  },
  {
   "cell_type": "code",
   "execution_count": null,
   "metadata": {
    "execution": {
     "iopub.execute_input": "2021-08-17T14:00:17.017086Z",
     "iopub.status.busy": "2021-08-17T14:00:17.016587Z",
     "iopub.status.idle": "2021-08-17T14:00:17.211556Z",
     "shell.execute_reply": "2021-08-17T14:00:17.210827Z",
     "shell.execute_reply.started": "2021-08-17T14:00:17.01704Z"
    },
    "trusted": true
   },
   "outputs": [],
   "source": [
    "# export for potential external processing\n",
    "df_combined.to_csv('df_combined.csv')"
   ]
  }
 ],
 "metadata": {
  "kaggle": {
   "accelerator": "none",
   "dataSources": [
    {
     "datasetId": 1516980,
     "sourceId": 2566416,
     "sourceType": "datasetVersion"
    }
   ],
   "dockerImageVersionId": 30120,
   "isGpuEnabled": false,
   "isInternetEnabled": true,
   "language": "python",
   "sourceType": "notebook"
  },
  "kernelspec": {
   "display_name": "Python 3",
   "language": "python",
   "name": "python3"
  },
  "language_info": {
   "codemirror_mode": {
    "name": "ipython",
    "version": 3
   },
   "file_extension": ".py",
   "mimetype": "text/x-python",
   "name": "python",
   "nbconvert_exporter": "python",
   "pygments_lexer": "ipython3",
   "version": "3.11.5"
  }
 },
 "nbformat": 4,
 "nbformat_minor": 4
}
