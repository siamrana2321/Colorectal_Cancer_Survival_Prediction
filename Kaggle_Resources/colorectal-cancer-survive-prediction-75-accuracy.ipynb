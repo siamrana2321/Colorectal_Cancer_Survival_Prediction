{
 "cells": [
  {
   "cell_type": "code",
   "execution_count": 1,
   "metadata": {},
   "outputs": [],
   "source": [
    "import numpy as np # linear algebra\n",
    "import pandas as pd # data processing, CSV file I/O (e.g. pd.read_csv)\n",
    "from sklearn.model_selection import train_test_split\n",
    "from sklearn.ensemble import RandomForestClassifier\n",
    "from sklearn.metrics import accuracy_score"
   ]
  },
  {
   "cell_type": "code",
   "execution_count": 2,
   "metadata": {
    "execution": {
     "iopub.execute_input": "2025-02-09T18:30:28.140064Z",
     "iopub.status.busy": "2025-02-09T18:30:28.139736Z",
     "iopub.status.idle": "2025-02-09T18:30:28.616771Z",
     "shell.execute_reply": "2025-02-09T18:30:28.6157Z",
     "shell.execute_reply.started": "2025-02-09T18:30:28.140039Z"
    },
    "trusted": true
   },
   "outputs": [
    {
     "data": {
      "text/html": [
       "<div>\n",
       "<style scoped>\n",
       "    .dataframe tbody tr th:only-of-type {\n",
       "        vertical-align: middle;\n",
       "    }\n",
       "\n",
       "    .dataframe tbody tr th {\n",
       "        vertical-align: top;\n",
       "    }\n",
       "\n",
       "    .dataframe thead th {\n",
       "        text-align: right;\n",
       "    }\n",
       "</style>\n",
       "<table border=\"1\" class=\"dataframe\">\n",
       "  <thead>\n",
       "    <tr style=\"text-align: right;\">\n",
       "      <th></th>\n",
       "      <th>Patient_ID</th>\n",
       "      <th>Age</th>\n",
       "      <th>Gender</th>\n",
       "      <th>Race</th>\n",
       "      <th>Region</th>\n",
       "      <th>Urban_or_Rural</th>\n",
       "      <th>Socioeconomic_Status</th>\n",
       "      <th>Family_History</th>\n",
       "      <th>Previous_Cancer_History</th>\n",
       "      <th>Stage_at_Diagnosis</th>\n",
       "      <th>...</th>\n",
       "      <th>Insurance_Coverage</th>\n",
       "      <th>Time_to_Diagnosis</th>\n",
       "      <th>Treatment_Access</th>\n",
       "      <th>Chemotherapy_Received</th>\n",
       "      <th>Radiotherapy_Received</th>\n",
       "      <th>Surgery_Received</th>\n",
       "      <th>Follow_Up_Adherence</th>\n",
       "      <th>Survival_Status</th>\n",
       "      <th>Recurrence</th>\n",
       "      <th>Time_to_Recurrence</th>\n",
       "    </tr>\n",
       "  </thead>\n",
       "  <tbody>\n",
       "    <tr>\n",
       "      <th>0</th>\n",
       "      <td>1</td>\n",
       "      <td>71</td>\n",
       "      <td>Male</td>\n",
       "      <td>Other</td>\n",
       "      <td>Europe</td>\n",
       "      <td>Urban</td>\n",
       "      <td>Middle</td>\n",
       "      <td>Yes</td>\n",
       "      <td>No</td>\n",
       "      <td>III</td>\n",
       "      <td>...</td>\n",
       "      <td>Yes</td>\n",
       "      <td>Delayed</td>\n",
       "      <td>Good</td>\n",
       "      <td>Yes</td>\n",
       "      <td>No</td>\n",
       "      <td>No</td>\n",
       "      <td>Good</td>\n",
       "      <td>Survived</td>\n",
       "      <td>No</td>\n",
       "      <td>16</td>\n",
       "    </tr>\n",
       "    <tr>\n",
       "      <th>1</th>\n",
       "      <td>2</td>\n",
       "      <td>34</td>\n",
       "      <td>Female</td>\n",
       "      <td>Black</td>\n",
       "      <td>North America</td>\n",
       "      <td>Urban</td>\n",
       "      <td>Middle</td>\n",
       "      <td>No</td>\n",
       "      <td>No</td>\n",
       "      <td>I</td>\n",
       "      <td>...</td>\n",
       "      <td>No</td>\n",
       "      <td>Timely</td>\n",
       "      <td>Good</td>\n",
       "      <td>No</td>\n",
       "      <td>Yes</td>\n",
       "      <td>Yes</td>\n",
       "      <td>Poor</td>\n",
       "      <td>Deceased</td>\n",
       "      <td>No</td>\n",
       "      <td>28</td>\n",
       "    </tr>\n",
       "    <tr>\n",
       "      <th>2</th>\n",
       "      <td>3</td>\n",
       "      <td>80</td>\n",
       "      <td>Female</td>\n",
       "      <td>White</td>\n",
       "      <td>North America</td>\n",
       "      <td>Urban</td>\n",
       "      <td>Middle</td>\n",
       "      <td>No</td>\n",
       "      <td>No</td>\n",
       "      <td>III</td>\n",
       "      <td>...</td>\n",
       "      <td>Yes</td>\n",
       "      <td>Timely</td>\n",
       "      <td>Limited</td>\n",
       "      <td>No</td>\n",
       "      <td>Yes</td>\n",
       "      <td>Yes</td>\n",
       "      <td>Good</td>\n",
       "      <td>Survived</td>\n",
       "      <td>No</td>\n",
       "      <td>26</td>\n",
       "    </tr>\n",
       "  </tbody>\n",
       "</table>\n",
       "<p>3 rows × 30 columns</p>\n",
       "</div>"
      ],
      "text/plain": [
       "   Patient_ID  Age  Gender   Race         Region Urban_or_Rural  \\\n",
       "0           1   71    Male  Other         Europe          Urban   \n",
       "1           2   34  Female  Black  North America          Urban   \n",
       "2           3   80  Female  White  North America          Urban   \n",
       "\n",
       "  Socioeconomic_Status Family_History Previous_Cancer_History  \\\n",
       "0               Middle            Yes                      No   \n",
       "1               Middle             No                      No   \n",
       "2               Middle             No                      No   \n",
       "\n",
       "  Stage_at_Diagnosis  ... Insurance_Coverage Time_to_Diagnosis  \\\n",
       "0                III  ...                Yes           Delayed   \n",
       "1                  I  ...                 No            Timely   \n",
       "2                III  ...                Yes            Timely   \n",
       "\n",
       "  Treatment_Access Chemotherapy_Received  Radiotherapy_Received  \\\n",
       "0             Good                   Yes                     No   \n",
       "1             Good                    No                    Yes   \n",
       "2          Limited                    No                    Yes   \n",
       "\n",
       "  Surgery_Received Follow_Up_Adherence Survival_Status Recurrence  \\\n",
       "0               No                Good        Survived         No   \n",
       "1              Yes                Poor        Deceased         No   \n",
       "2              Yes                Good        Survived         No   \n",
       "\n",
       "  Time_to_Recurrence  \n",
       "0                 16  \n",
       "1                 28  \n",
       "2                 26  \n",
       "\n",
       "[3 rows x 30 columns]"
      ]
     },
     "execution_count": 2,
     "metadata": {},
     "output_type": "execute_result"
    }
   ],
   "source": [
    "#Let's read dataset\n",
    "df = pd.read_csv(\"./dataset/colorectal_cancer_prediction.csv\")\n",
    "df.head(3)"
   ]
  },
  {
   "cell_type": "code",
   "execution_count": 3,
   "metadata": {
    "_kg_hide-output": true,
    "execution": {
     "iopub.execute_input": "2025-02-09T18:30:31.74751Z",
     "iopub.status.busy": "2025-02-09T18:30:31.74715Z",
     "iopub.status.idle": "2025-02-09T18:30:31.7678Z",
     "shell.execute_reply": "2025-02-09T18:30:31.766794Z",
     "shell.execute_reply.started": "2025-02-09T18:30:31.747479Z"
    },
    "trusted": true
   },
   "outputs": [],
   "source": [
    "#Remove unnecessary columns.\n",
    "df=df.drop('Patient_ID',axis=1)"
   ]
  },
  {
   "cell_type": "code",
   "execution_count": 4,
   "metadata": {
    "execution": {
     "iopub.execute_input": "2025-02-09T18:33:30.00229Z",
     "iopub.status.busy": "2025-02-09T18:33:30.001874Z",
     "iopub.status.idle": "2025-02-09T18:33:30.272041Z",
     "shell.execute_reply": "2025-02-09T18:33:30.270598Z",
     "shell.execute_reply.started": "2025-02-09T18:33:30.002261Z"
    },
    "trusted": true
   },
   "outputs": [],
   "source": [
    "#Change categorical data to boolean with get_dummies command.\n",
    "cat=pd.get_dummies(df.drop(columns=['Age','Time_to_Recurrence']),drop_first=True)"
   ]
  },
  {
   "cell_type": "code",
   "execution_count": 5,
   "metadata": {
    "execution": {
     "iopub.execute_input": "2025-02-09T18:36:43.490611Z",
     "iopub.status.busy": "2025-02-09T18:36:43.490241Z",
     "iopub.status.idle": "2025-02-09T18:36:43.518435Z",
     "shell.execute_reply": "2025-02-09T18:36:43.517003Z",
     "shell.execute_reply.started": "2025-02-09T18:36:43.490584Z"
    },
    "trusted": true
   },
   "outputs": [
    {
     "data": {
      "text/html": [
       "<div>\n",
       "<style scoped>\n",
       "    .dataframe tbody tr th:only-of-type {\n",
       "        vertical-align: middle;\n",
       "    }\n",
       "\n",
       "    .dataframe tbody tr th {\n",
       "        vertical-align: top;\n",
       "    }\n",
       "\n",
       "    .dataframe thead th {\n",
       "        text-align: right;\n",
       "    }\n",
       "</style>\n",
       "<table border=\"1\" class=\"dataframe\">\n",
       "  <thead>\n",
       "    <tr style=\"text-align: right;\">\n",
       "      <th></th>\n",
       "      <th>Age</th>\n",
       "      <th>Time_to_Recurrence</th>\n",
       "      <th>BMI</th>\n",
       "      <th>Gender_Male</th>\n",
       "      <th>Race_Black</th>\n",
       "      <th>Race_Hispanic</th>\n",
       "      <th>Race_Other</th>\n",
       "      <th>Race_White</th>\n",
       "      <th>Region_Asia Pacific</th>\n",
       "      <th>Region_Europe</th>\n",
       "      <th>...</th>\n",
       "      <th>Fiber_Consumption_Medium</th>\n",
       "      <th>Insurance_Coverage_Yes</th>\n",
       "      <th>Time_to_Diagnosis_Timely</th>\n",
       "      <th>Treatment_Access_Limited</th>\n",
       "      <th>Chemotherapy_Received_Yes</th>\n",
       "      <th>Radiotherapy_Received_Yes</th>\n",
       "      <th>Surgery_Received_Yes</th>\n",
       "      <th>Follow_Up_Adherence_Poor</th>\n",
       "      <th>Survival_Status_Survived</th>\n",
       "      <th>Recurrence_Yes</th>\n",
       "    </tr>\n",
       "  </thead>\n",
       "  <tbody>\n",
       "    <tr>\n",
       "      <th>0</th>\n",
       "      <td>71</td>\n",
       "      <td>16</td>\n",
       "      <td>33.0</td>\n",
       "      <td>True</td>\n",
       "      <td>False</td>\n",
       "      <td>False</td>\n",
       "      <td>True</td>\n",
       "      <td>False</td>\n",
       "      <td>False</td>\n",
       "      <td>True</td>\n",
       "      <td>...</td>\n",
       "      <td>False</td>\n",
       "      <td>True</td>\n",
       "      <td>False</td>\n",
       "      <td>False</td>\n",
       "      <td>True</td>\n",
       "      <td>False</td>\n",
       "      <td>False</td>\n",
       "      <td>False</td>\n",
       "      <td>True</td>\n",
       "      <td>False</td>\n",
       "    </tr>\n",
       "    <tr>\n",
       "      <th>1</th>\n",
       "      <td>34</td>\n",
       "      <td>28</td>\n",
       "      <td>33.1</td>\n",
       "      <td>False</td>\n",
       "      <td>True</td>\n",
       "      <td>False</td>\n",
       "      <td>False</td>\n",
       "      <td>False</td>\n",
       "      <td>False</td>\n",
       "      <td>False</td>\n",
       "      <td>...</td>\n",
       "      <td>False</td>\n",
       "      <td>False</td>\n",
       "      <td>True</td>\n",
       "      <td>False</td>\n",
       "      <td>False</td>\n",
       "      <td>True</td>\n",
       "      <td>True</td>\n",
       "      <td>True</td>\n",
       "      <td>False</td>\n",
       "      <td>False</td>\n",
       "    </tr>\n",
       "    <tr>\n",
       "      <th>2</th>\n",
       "      <td>80</td>\n",
       "      <td>26</td>\n",
       "      <td>20.7</td>\n",
       "      <td>False</td>\n",
       "      <td>False</td>\n",
       "      <td>False</td>\n",
       "      <td>False</td>\n",
       "      <td>True</td>\n",
       "      <td>False</td>\n",
       "      <td>False</td>\n",
       "      <td>...</td>\n",
       "      <td>True</td>\n",
       "      <td>True</td>\n",
       "      <td>True</td>\n",
       "      <td>True</td>\n",
       "      <td>False</td>\n",
       "      <td>True</td>\n",
       "      <td>True</td>\n",
       "      <td>False</td>\n",
       "      <td>True</td>\n",
       "      <td>False</td>\n",
       "    </tr>\n",
       "  </tbody>\n",
       "</table>\n",
       "<p>3 rows × 46 columns</p>\n",
       "</div>"
      ],
      "text/plain": [
       "   Age  Time_to_Recurrence   BMI  Gender_Male  Race_Black  Race_Hispanic  \\\n",
       "0   71                  16  33.0         True       False          False   \n",
       "1   34                  28  33.1        False        True          False   \n",
       "2   80                  26  20.7        False       False          False   \n",
       "\n",
       "   Race_Other  Race_White  Region_Asia Pacific  Region_Europe  ...  \\\n",
       "0        True       False                False           True  ...   \n",
       "1       False       False                False          False  ...   \n",
       "2       False        True                False          False  ...   \n",
       "\n",
       "   Fiber_Consumption_Medium  Insurance_Coverage_Yes  Time_to_Diagnosis_Timely  \\\n",
       "0                     False                    True                     False   \n",
       "1                     False                   False                      True   \n",
       "2                      True                    True                      True   \n",
       "\n",
       "   Treatment_Access_Limited  Chemotherapy_Received_Yes  \\\n",
       "0                     False                       True   \n",
       "1                     False                      False   \n",
       "2                      True                      False   \n",
       "\n",
       "   Radiotherapy_Received_Yes  Surgery_Received_Yes  Follow_Up_Adherence_Poor  \\\n",
       "0                      False                 False                     False   \n",
       "1                       True                  True                      True   \n",
       "2                       True                  True                     False   \n",
       "\n",
       "   Survival_Status_Survived  Recurrence_Yes  \n",
       "0                      True           False  \n",
       "1                     False           False  \n",
       "2                      True           False  \n",
       "\n",
       "[3 rows x 46 columns]"
      ]
     },
     "execution_count": 5,
     "metadata": {},
     "output_type": "execute_result"
    }
   ],
   "source": [
    "#Make combine again columns with pd.concat\n",
    "df=pd.concat([df['Age'],df['Time_to_Recurrence'],cat],axis=1)\n",
    "df.head(3)"
   ]
  },
  {
   "cell_type": "code",
   "execution_count": 6,
   "metadata": {
    "execution": {
     "iopub.execute_input": "2025-02-09T18:37:25.506851Z",
     "iopub.status.busy": "2025-02-09T18:37:25.5064Z",
     "iopub.status.idle": "2025-02-09T18:37:25.517757Z",
     "shell.execute_reply": "2025-02-09T18:37:25.516162Z",
     "shell.execute_reply.started": "2025-02-09T18:37:25.506818Z"
    },
    "trusted": true
   },
   "outputs": [],
   "source": [
    "#Decide y and x values.\n",
    "y=df['Survival_Status_Survived']\n",
    "x=df.drop('Survival_Status_Survived',axis=1)"
   ]
  },
  {
   "cell_type": "code",
   "execution_count": 7,
   "metadata": {
    "execution": {
     "iopub.execute_input": "2025-02-09T18:38:36.577946Z",
     "iopub.status.busy": "2025-02-09T18:38:36.577474Z",
     "iopub.status.idle": "2025-02-09T18:38:36.603628Z",
     "shell.execute_reply": "2025-02-09T18:38:36.60231Z",
     "shell.execute_reply.started": "2025-02-09T18:38:36.577912Z"
    },
    "trusted": true
   },
   "outputs": [],
   "source": [
    "#Split values for train and test.\n",
    "x_train,x_test,y_train,y_test=train_test_split(x,y,random_state=42,train_size=0.77)"
   ]
  },
  {
   "cell_type": "code",
   "execution_count": 8,
   "metadata": {
    "execution": {
     "iopub.execute_input": "2025-02-09T18:38:54.848334Z",
     "iopub.status.busy": "2025-02-09T18:38:54.84788Z",
     "iopub.status.idle": "2025-02-09T18:39:07.233187Z",
     "shell.execute_reply": "2025-02-09T18:39:07.231909Z",
     "shell.execute_reply.started": "2025-02-09T18:38:54.848299Z"
    },
    "trusted": true
   },
   "outputs": [],
   "source": [
    "#Creating a model with RandomForestClassifier.\n",
    "rf=RandomForestClassifier()\n",
    "model=rf.fit(x_train,y_train)"
   ]
  },
  {
   "cell_type": "code",
   "execution_count": 9,
   "metadata": {
    "execution": {
     "iopub.execute_input": "2025-02-09T18:47:32.334744Z",
     "iopub.status.busy": "2025-02-09T18:47:32.334385Z",
     "iopub.status.idle": "2025-02-09T18:47:33.146715Z",
     "shell.execute_reply": "2025-02-09T18:47:33.145462Z",
     "shell.execute_reply.started": "2025-02-09T18:47:32.33472Z"
    },
    "trusted": true
   },
   "outputs": [
    {
     "name": "stdout",
     "output_type": "stream",
     "text": [
      "Accuracy: 0.750531709203403\n"
     ]
    }
   ],
   "source": [
    "#Results.\n",
    "y_pred=model.predict(x_test)\n",
    "accuracy = accuracy_score(y_test, y_pred)\n",
    "print(\"Accuracy:\", accuracy)"
   ]
  }
 ],
 "metadata": {
  "kaggle": {
   "accelerator": "none",
   "dataSources": [
    {
     "datasetId": 6631203,
     "sourceId": 10700579,
     "sourceType": "datasetVersion"
    }
   ],
   "dockerImageVersionId": 30886,
   "isGpuEnabled": false,
   "isInternetEnabled": false,
   "language": "python",
   "sourceType": "notebook"
  },
  "kernelspec": {
   "display_name": "Python 3",
   "language": "python",
   "name": "python3"
  },
  "language_info": {
   "codemirror_mode": {
    "name": "ipython",
    "version": 3
   },
   "file_extension": ".py",
   "mimetype": "text/x-python",
   "name": "python",
   "nbconvert_exporter": "python",
   "pygments_lexer": "ipython3",
   "version": "3.11.5"
  }
 },
 "nbformat": 4,
 "nbformat_minor": 4
}
